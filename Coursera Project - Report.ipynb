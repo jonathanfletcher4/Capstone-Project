{
 "cells": [
  {
   "cell_type": "markdown",
   "metadata": {},
   "source": [
    "# Coursera Capstone Foursquare API Project"
   ]
  },
  {
   "cell_type": "markdown",
   "metadata": {},
   "source": [
    "## Introduction"
   ]
  },
  {
   "cell_type": "markdown",
   "metadata": {},
   "source": [
    "The purpose of this project is to allow you to easily compare different cities based on their top venues. This is particularly useful if you are planning a holiday or moving to a new city and you want to be sure the best places in a city align with your interests. "
   ]
  },
  {
   "cell_type": "markdown",
   "metadata": {},
   "source": [
    "## Data"
   ]
  },
  {
   "cell_type": "markdown",
   "metadata": {},
   "source": [
    "The data used is solely provided using the Foursquare API"
   ]
  },
  {
   "cell_type": "markdown",
   "metadata": {},
   "source": [
    "## Method"
   ]
  },
  {
   "cell_type": "markdown",
   "metadata": {},
   "source": [
    "\n",
    "The first step in the process is to do an example on just one city, then combine steps in that process into a function to use on other cities. My example case is London, UK:\n",
    "1.\tPass London, UK along with the number of top venues required into Foursquare API call <br><br>\n",
    "2.\tDrop relevant venue information into a dataframe<br><br>\n",
    "\n",
    "3.\tDefine a function to create a radar plot for each category type. This is done by: <br><br>\n",
    "    a.\tPlotting a polar coordinate axis <br>\n",
    "    b.\tSetting the number of points using the number of categories <br>\n",
    "    c.\tThen plotting the shape on the axis based on counts of each category <br><br>\n",
    "\n",
    "4.\tThere are visibly too many categories to make this readable – so the categories must be aggregated <br><br>\n",
    "\n",
    "5.\tI’ve then combined steps 1-2 into a function and passed several cities into this function to create a long list of categories and removed duplicates <br><br>\n",
    "\n",
    "6.\tI’ve created 8 distinct category groups, each venue category will assigned to 1<br><br>\n",
    "\n",
    "7.\tA few keywords are listed for each category group, if a venue’s category contains a keyword it will be assigned to that group <br>\n",
    "\n",
    "    a.\tCategories which are not assigned a group are assigned to ‘Other’ <br><br>\n",
    "\n",
    "8.\tCategory groups can now be assigned to our London dataframe <br><br>\n",
    "\n",
    "9.\tThe radar chart is replotted with grouped categories and now looks much better <br><br>\n",
    "\n",
    "10.\tNow we can combine the previous steps into a function and pass any city name (or list of cities to compare) into the function and compare attributes <br><br>\n",
    "\n",
    "11.\tThe final result is an easy to visualize method of comparing city venues!\n"
   ]
  },
  {
   "cell_type": "markdown",
   "metadata": {},
   "source": [
    "## Results"
   ]
  },
  {
   "cell_type": "markdown",
   "metadata": {},
   "source": [
    "The results are based on what the user would like to input and compare. However, we can generally see that the smaller a city gets the more likely it is to have ‘Food’ as the most popular category. You could say this is expected as larger cities generally have more things to do and are more likely to capitals of their country where popular cultural and nightlife based venues are more common"
   ]
  },
  {
   "cell_type": "markdown",
   "metadata": {},
   "source": [
    "## Markdown"
   ]
  },
  {
   "cell_type": "markdown",
   "metadata": {},
   "source": [
    "The project achieves an easy way to compare cities based on their venues, and specifically for holidaymakers it can be particularly useful and provide a different approach to choosing a location or simply to find out more about a city that isn’t from a conventional travel guide."
   ]
  }
 ],
 "metadata": {
  "kernelspec": {
   "display_name": "Python 3",
   "language": "python",
   "name": "python3"
  },
  "language_info": {
   "codemirror_mode": {
    "name": "ipython",
    "version": 3
   },
   "file_extension": ".py",
   "mimetype": "text/x-python",
   "name": "python",
   "nbconvert_exporter": "python",
   "pygments_lexer": "ipython3",
   "version": "3.6.5"
  }
 },
 "nbformat": 4,
 "nbformat_minor": 2
}
