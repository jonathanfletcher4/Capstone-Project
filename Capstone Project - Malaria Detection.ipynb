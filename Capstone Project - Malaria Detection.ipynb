{
 "cells": [
  {
   "cell_type": "markdown",
   "metadata": {},
   "source": [
    "# Image Classification for Malaria Cells"
   ]
  },
  {
   "cell_type": "code",
   "execution_count": 1,
   "metadata": {},
   "outputs": [
    {
     "name": "stderr",
     "output_type": "stream",
     "text": [
      "C:\\Users\\jonat\\Anaconda3\\lib\\site-packages\\h5py\\__init__.py:36: FutureWarning: Conversion of the second argument of issubdtype from `float` to `np.floating` is deprecated. In future, it will be treated as `np.float64 == np.dtype(float).type`.\n",
      "  from ._conv import register_converters as _register_converters\n",
      "Using TensorFlow backend.\n"
     ]
    }
   ],
   "source": [
    "#Importing Necessary Libraries.\n",
    "from PIL import Image\n",
    "import numpy as np\n",
    "import pandas as pd\n",
    "import os\n",
    "import cv2\n",
    "import keras\n",
    "from keras.utils import np_utils\n",
    "from keras.models import Sequential\n",
    "from keras.layers import Conv2D,MaxPooling2D,Dense,Flatten,Dropout, Input, LSTM\n",
    "from sklearn.metrics import confusion_matrix\n",
    "\n",
    "\n",
    "import matplotlib.pyplot as plt"
   ]
  },
  {
   "cell_type": "markdown",
   "metadata": {},
   "source": [
    "## Import Data"
   ]
  },
  {
   "cell_type": "code",
   "execution_count": 2,
   "metadata": {},
   "outputs": [],
   "source": [
    "#initiate empty lists for images\n",
    "data=[]\n",
    "labels=[]\n",
    "\n",
    "#loop through folder with images and append to data, append 0 to labels for infected\n",
    "Infected=os.listdir(\"C:\\\\Users\\jonat\\Documents\\Python Scripts\\Coursera\\Advanced Data Science\\Applied AI\\cell_images\\Infected/\")\n",
    "for a in Infected:\n",
    "    try:\n",
    "        image=cv2.imread(\"C:\\\\Users\\jonat\\Documents\\Python Scripts\\Coursera\\Advanced Data Science\\Applied AI\\cell_images\\Infected/\" +a)\n",
    "        data.append(image)\n",
    "        labels.append(0)\n",
    "    except AttributeError:\n",
    "        print(\"\")\n",
    "        \n",
    "#loop through folder with images and append to data, append 1 to labels for uninfected\n",
    "Uninfected=os.listdir(\"C:\\\\Users\\jonat\\Documents\\Python Scripts\\Coursera\\Advanced Data Science\\Applied AI\\cell_images/Uninfected/\")\n",
    "for b in Uninfected:\n",
    "    try:\n",
    "        image=cv2.imread(\"C:\\\\Users\\jonat\\Documents\\Python Scripts\\Coursera\\Advanced Data Science\\Applied AI\\cell_images/Uninfected/\"+b)\n",
    "        data.append(image)\n",
    "        labels.append(1)\n",
    "    except AttributeError:\n",
    "        print(\"\")\n",
    "        "
   ]
  },
  {
   "cell_type": "code",
   "execution_count": 21,
   "metadata": {},
   "outputs": [
    {
     "data": {
      "text/plain": [
       "array([[[0, 0, 0],\n",
       "        [0, 0, 0],\n",
       "        [0, 0, 0],\n",
       "        ...,\n",
       "        [0, 0, 0],\n",
       "        [0, 0, 0],\n",
       "        [0, 0, 0]],\n",
       "\n",
       "       [[0, 0, 0],\n",
       "        [0, 0, 0],\n",
       "        [0, 0, 0],\n",
       "        ...,\n",
       "        [0, 0, 0],\n",
       "        [0, 0, 0],\n",
       "        [0, 0, 0]],\n",
       "\n",
       "       [[0, 0, 0],\n",
       "        [0, 0, 0],\n",
       "        [0, 0, 0],\n",
       "        ...,\n",
       "        [0, 0, 0],\n",
       "        [0, 0, 0],\n",
       "        [0, 0, 0]],\n",
       "\n",
       "       ...,\n",
       "\n",
       "       [[0, 0, 0],\n",
       "        [0, 0, 0],\n",
       "        [0, 0, 0],\n",
       "        ...,\n",
       "        [0, 0, 0],\n",
       "        [0, 0, 0],\n",
       "        [0, 0, 0]],\n",
       "\n",
       "       [[0, 0, 0],\n",
       "        [0, 0, 0],\n",
       "        [0, 0, 0],\n",
       "        ...,\n",
       "        [0, 0, 0],\n",
       "        [0, 0, 0],\n",
       "        [0, 0, 0]],\n",
       "\n",
       "       [[0, 0, 0],\n",
       "        [0, 0, 0],\n",
       "        [0, 0, 0],\n",
       "        ...,\n",
       "        [0, 0, 0],\n",
       "        [0, 0, 0],\n",
       "        [0, 0, 0]]], dtype=uint8)"
      ]
     },
     "execution_count": 21,
     "metadata": {},
     "output_type": "execute_result"
    }
   ],
   "source": [
    "data[0]"
   ]
  },
  {
   "cell_type": "markdown",
   "metadata": {},
   "source": [
    "### Filter out None type objects\n",
    "- only 2 entries lost"
   ]
  },
  {
   "cell_type": "code",
   "execution_count": 3,
   "metadata": {
    "scrolled": true
   },
   "outputs": [],
   "source": [
    "data  =[x for x in data if x is not None]"
   ]
  },
  {
   "cell_type": "code",
   "execution_count": 4,
   "metadata": {},
   "outputs": [],
   "source": [
    "remove = [i for i in range(len(data)) if data[i] is None]\n",
    "labels = [labels[i] for i in range(len(labels)) if i not in remove ]"
   ]
  },
  {
   "cell_type": "markdown",
   "metadata": {},
   "source": [
    "## Scale images to equal size"
   ]
  },
  {
   "cell_type": "code",
   "execution_count": 5,
   "metadata": {},
   "outputs": [],
   "source": [
    "data_scaled = []\n",
    "for image in data:\n",
    "    try:\n",
    "        image_from_array = Image.fromarray(image, 'RGB') \n",
    "        size_image = image_from_array.resize((50, 50)) # resize all images to 50,50\n",
    "        data_scaled.append(np.array(size_image)) # append to data_scaled list\n",
    "    except AttributeError:\n",
    "        print(\"\")"
   ]
  },
  {
   "cell_type": "code",
   "execution_count": 6,
   "metadata": {},
   "outputs": [],
   "source": [
    "#Convert lists to arrays\n",
    "data_scaled = np.array(data_scaled)\n",
    "labels = np.array(labels)"
   ]
  },
  {
   "cell_type": "code",
   "execution_count": null,
   "metadata": {},
   "outputs": [],
   "source": [
    "#save data so image import steps do not need to be re-run\n",
    "np.save('data', data)\n",
    "np.save('data_scaled', data_scaled)\n",
    "np.save('labels', labels)"
   ]
  },
  {
   "cell_type": "markdown",
   "metadata": {},
   "source": [
    "### Import saved data (so don't need to re-run image import)"
   ]
  },
  {
   "cell_type": "code",
   "execution_count": 3,
   "metadata": {},
   "outputs": [],
   "source": [
    "data = np.load(\"data.npy\")\n",
    "data_scaled = np.load(\"data_scaled.npy\")\n",
    "labels=np.load(\"labels.npy\")"
   ]
  },
  {
   "cell_type": "markdown",
   "metadata": {},
   "source": [
    "### Shuffle data\n",
    "\n",
    "- Currently data is just Uninfected images appended to Infected images in order"
   ]
  },
  {
   "cell_type": "code",
   "execution_count": 7,
   "metadata": {},
   "outputs": [],
   "source": [
    "#take current index\n",
    "shuffle_order =np.arange(data_scaled.shape[0])\n",
    "\n",
    "#shuffle index\n",
    "np.random.shuffle(shuffle_order)\n",
    "\n",
    "#apply shuffled indexing to arrays\n",
    "data_scaled=data_scaled[shuffle_order]\n",
    "labels=labels[shuffle_order]"
   ]
  },
  {
   "cell_type": "markdown",
   "metadata": {},
   "source": [
    "### Create Test and Control groups for training"
   ]
  },
  {
   "cell_type": "code",
   "execution_count": 8,
   "metadata": {},
   "outputs": [],
   "source": [
    "test_size =0.2\n",
    "\n",
    "x_train = data_scaled[:int(len(data_scaled)*(1-test_size))]\n",
    "x_test = data_scaled[int(len(data_scaled)*(1-test_size)):]\n",
    "\n",
    "y_train = labels[:int(len(labels)*(1-test_size))]\n",
    "y_test = labels[int(len(labels)*(1-test_size)):]\n",
    "\n",
    "train_len = len(x_train)\n",
    "test_len = len(x_test)\n",
    "\n",
    "x_train = x_train.astype('float32')/255\n",
    "x_test = x_test.astype('float32')/255"
   ]
  },
  {
   "cell_type": "code",
   "execution_count": 9,
   "metadata": {},
   "outputs": [],
   "source": [
    "#also want to keep a track of which index each \n",
    "shuffle_order_test = shuffle_order[int(len(shuffle_order)*(1-test_size)):]"
   ]
  },
  {
   "cell_type": "code",
   "execution_count": 10,
   "metadata": {},
   "outputs": [
    {
     "name": "stdout",
     "output_type": "stream",
     "text": [
      "(22046,) (5512,)\n",
      "(22046, 50, 50, 3) (5512, 50, 50, 3)\n"
     ]
    }
   ],
   "source": [
    "print(y_train.shape, y_test.shape)\n",
    "print(x_train.shape, x_test.shape)\n",
    "\n"
   ]
  },
  {
   "cell_type": "markdown",
   "metadata": {},
   "source": [
    "## Training Neural Network"
   ]
  },
  {
   "cell_type": "code",
   "execution_count": 11,
   "metadata": {},
   "outputs": [
    {
     "name": "stdout",
     "output_type": "stream",
     "text": [
      "_________________________________________________________________\n",
      "Layer (type)                 Output Shape              Param #   \n",
      "=================================================================\n",
      "dense_1 (Dense)              (None, 50, 50, 10)        40        \n",
      "_________________________________________________________________\n",
      "flatten_1 (Flatten)          (None, 25000)             0         \n",
      "_________________________________________________________________\n",
      "dropout_1 (Dropout)          (None, 25000)             0         \n",
      "_________________________________________________________________\n",
      "dense_2 (Dense)              (None, 1)                 25001     \n",
      "=================================================================\n",
      "Total params: 25,041\n",
      "Trainable params: 25,041\n",
      "Non-trainable params: 0\n",
      "_________________________________________________________________\n",
      "Epoch 1/10\n",
      "22046/22046 [==============================] - 13s 583us/step - loss: 8.0606 - acc: 0.4997\n",
      "Epoch 2/10\n",
      "22046/22046 [==============================] - 10s 432us/step - loss: 8.0576 - acc: 0.5001\n",
      "Epoch 3/10\n",
      "22046/22046 [==============================] - 24s 1ms/step - loss: 8.0576 - acc: 0.5001: 7s - loss: 8.1032 - acc: 0.4 - ETA: 8s - loss: - ETA: 10s - loss: 8.0861 - acc: 0. - ETA: 10s - loss: - ETA: 7s - loss: 8.077 - ETA: 6s - \n",
      "Epoch 4/10\n",
      "22046/22046 [==============================] - 12s 560us/step - loss: 8.0576 - acc: 0.5001\n",
      "Epoch 5/10\n",
      "22046/22046 [==============================] - 11s 480us/step - loss: 8.0576 - acc: 0.5001\n",
      "Epoch 6/10\n",
      "22046/22046 [==============================] - 10s 453us/step - loss: 8.0576 - acc: 0.5001\n",
      "Epoch 7/10\n",
      "22046/22046 [==============================] - 10s 432us/step - loss: 8.0576 - acc: 0.5001\n",
      "Epoch 8/10\n",
      "22046/22046 [==============================] - 9s 430us/step - loss: 8.0576 - acc: 0.5001\n",
      "Epoch 9/10\n",
      "22046/22046 [==============================] - 10s 437us/step - loss: 8.0576 - acc: 0.5001\n",
      "Epoch 10/10\n",
      "22046/22046 [==============================] - 9s 431us/step - loss: 8.0576 - acc: 0.5001\n"
     ]
    },
    {
     "data": {
      "text/plain": [
       "<keras.callbacks.History at 0x2a7ff59ebe0>"
      ]
     },
     "execution_count": 11,
     "metadata": {},
     "output_type": "execute_result"
    }
   ],
   "source": [
    "model = Sequential()\n",
    "\n",
    "model.add(Dense(10, activation='relu', input_shape=(50,50,3)))\n",
    "\n",
    "model.add(Flatten())\n",
    "\n",
    "model.add(Dropout(0.1))\n",
    "\n",
    "model.add(Dense(1, activation='sigmoid'))\n",
    "\n",
    "model.compile(loss='binary_crossentropy', optimizer='sgd', metrics=['accuracy'])\n",
    "\n",
    "model.summary()\n",
    "model.fit(x=x_train, y=y_train, epochs=10, batch_size=50)"
   ]
  },
  {
   "cell_type": "markdown",
   "metadata": {},
   "source": [
    "## Optimising Neural Network"
   ]
  },
  {
   "cell_type": "code",
   "execution_count": 12,
   "metadata": {},
   "outputs": [
    {
     "name": "stdout",
     "output_type": "stream",
     "text": [
      "_________________________________________________________________\n",
      "Layer (type)                 Output Shape              Param #   \n",
      "=================================================================\n",
      "dense_3 (Dense)              (None, 50, 50, 10)        40        \n",
      "_________________________________________________________________\n",
      "dropout_2 (Dropout)          (None, 50, 50, 10)        0         \n",
      "_________________________________________________________________\n",
      "conv2d_1 (Conv2D)            (None, 50, 50, 16)        656       \n",
      "_________________________________________________________________\n",
      "flatten_2 (Flatten)          (None, 40000)             0         \n",
      "_________________________________________________________________\n",
      "dense_4 (Dense)              (None, 10)                400010    \n",
      "_________________________________________________________________\n",
      "dense_5 (Dense)              (None, 1)                 11        \n",
      "=================================================================\n",
      "Total params: 400,717\n",
      "Trainable params: 400,717\n",
      "Non-trainable params: 0\n",
      "_________________________________________________________________\n",
      "Epoch 1/10\n",
      "22046/22046 [==============================] - 23s 1ms/step - loss: 0.6590 - acc: 0.6126\n",
      "Epoch 2/10\n",
      "22046/22046 [==============================] - 21s 953us/step - loss: 0.6147 - acc: 0.6665\n",
      "Epoch 3/10\n",
      "22046/22046 [==============================] - 21s 957us/step - loss: 0.5877 - acc: 0.6897\n",
      "Epoch 4/10\n",
      "22046/22046 [==============================] - 21s 956us/step - loss: 0.4830 - acc: 0.7831\n",
      "Epoch 5/10\n",
      "22046/22046 [==============================] - 21s 955us/step - loss: 0.3289 - acc: 0.8838\n",
      "Epoch 6/10\n",
      "22046/22046 [==============================] - 21s 967us/step - loss: 0.2707 - acc: 0.9094\n",
      "Epoch 7/10\n",
      "22046/22046 [==============================] - 22s 979us/step - loss: 0.2483 - acc: 0.9178\n",
      "Epoch 8/10\n",
      "22046/22046 [==============================] - 21s 961us/step - loss: 0.2353 - acc: 0.9228\n",
      "Epoch 9/10\n",
      "22046/22046 [==============================] - 21s 975us/step - loss: 0.2247 - acc: 0.9280\n",
      "Epoch 10/10\n",
      "22046/22046 [==============================] - 22s 995us/step - loss: 0.2156 - acc: 0.9320\n"
     ]
    },
    {
     "data": {
      "text/plain": [
       "<keras.callbacks.History at 0x2a7ffdbe470>"
      ]
     },
     "execution_count": 12,
     "metadata": {},
     "output_type": "execute_result"
    }
   ],
   "source": [
    "model.add(Dense(10, activation='relu', input_shape=(50,50,3)))\n",
    "\n",
    "model.add(Dropout(0.5))\n",
    "\n",
    "model.add(Conv2D(filters=16, kernel_size=2,padding=\"same\",activation=\"relu\" ))\n",
    "\n",
    "model.add(Flatten())\n",
    "model.add(Dense(10, activation='sigmoid'))\n",
    "model.add(Dense(1, activation='sigmoid'))\n",
    "\n",
    "model.compile(loss='binary_crossentropy', optimizer='adam', metrics=['accuracy'])\n",
    "\n",
    "model.summary()\n",
    "model.fit(x=x_train, y=y_train, epochs=10, batch_size=50)"
   ]
  },
  {
   "cell_type": "code",
   "execution_count": 13,
   "metadata": {},
   "outputs": [],
   "source": [
    "pred = np.concatenate(model.predict_classes(x_test))"
   ]
  },
  {
   "cell_type": "code",
   "execution_count": 14,
   "metadata": {},
   "outputs": [],
   "source": [
    "score = pd.DataFrame({'predictions':pred, 'actuals':y_test})"
   ]
  },
  {
   "cell_type": "markdown",
   "metadata": {},
   "source": [
    "## Confusion Matrix"
   ]
  },
  {
   "cell_type": "code",
   "execution_count": 15,
   "metadata": {},
   "outputs": [],
   "source": [
    "\n",
    "cm = confusion_matrix(y_pred=pred, y_true=y_test)"
   ]
  },
  {
   "cell_type": "code",
   "execution_count": 16,
   "metadata": {},
   "outputs": [],
   "source": [
    "cm_pct = np.array([cm[0]/np.sum(cm[0]),cm[1]/np.sum(cm[1])])*100"
   ]
  },
  {
   "cell_type": "markdown",
   "metadata": {},
   "source": [
    "### Plot confusion matrix"
   ]
  },
  {
   "cell_type": "code",
   "execution_count": 17,
   "metadata": {},
   "outputs": [
    {
     "data": {
      "image/png": "[encoded data removed]",
      "text/plain": [
       "<Figure size 576x576 with 1 Axes>"
      ]
     },
     "metadata": {},
     "output_type": "display_data"
    }
   ],
   "source": [
    "fig, ax = plt.subplots(figsize=(8,8))\n",
    "im = ax.imshow(cm_pct, interpolation='nearest', cmap='Blues')\n",
    "\n",
    "\n",
    "ax.set(xticks=np.arange(cm.shape[1]),\n",
    "       yticks=np.arange(cm.shape[0]),\n",
    "       # ... and label them with the respective list entries\n",
    "       xticklabels=['Uninfected','Infected'], yticklabels=['Uninfected','Infected']\n",
    "      ,title='Confusion Matrix');\n",
    "\n",
    "for i in range(cm.shape[0]):\n",
    "    for j in range(cm.shape[1]):\n",
    "        ax.text(j, i, format(cm_pct[i, j], '.2f')+'%',\n",
    "                ha=\"center\", va=\"center\",\n",
    "                color=\"white\" if cm[i, j] > cm.max()/2 else \"black\")"
   ]
  },
  {
   "cell_type": "markdown",
   "metadata": {},
   "source": [
    "## Output images into separate folders "
   ]
  },
  {
   "cell_type": "code",
   "execution_count": 22,
   "metadata": {},
   "outputs": [],
   "source": [
    "infected = []\n",
    "uninfected = []\n",
    "\n",
    "for i in range(len(x_test)):\n",
    "    if pred[i] == 0:\n",
    "        infected.append(data[shuffle_order_test[i]])\n",
    "    else:\n",
    "        uninfected.append(data[shuffle_order_test[i]])"
   ]
  },
  {
   "cell_type": "code",
   "execution_count": 24,
   "metadata": {},
   "outputs": [],
   "source": [
    "path_infected = 'C:\\\\Users/jonat/Documents/Python Scripts/Coursera/Advanced Data Science/Applied AI/output/infected'\n",
    "path_uninfected = 'C:\\\\Users/jonat/Documents/Python Scripts/Coursera/Advanced Data Science/Applied AI/output/uninfected'\n",
    "\n",
    "for i in range(len(infected)):\n",
    "    cv2.imwrite(os.path.join(path_infected , str(i)+'_infected.jpg'), infected[i])\n",
    "\n",
    "for i in range(len(uninfected)):\n",
    "    cv2.imwrite(os.path.join(path_uninfected , str(i)+'_uninfected.jpg'), uninfected[i])"
   ]
  }
 ],
 "metadata": {
  "kernelspec": {
   "display_name": "Python 3",
   "language": "python",
   "name": "python3"
  },
  "language_info": {
   "codemirror_mode": {
    "name": "ipython",
    "version": 3
   },
   "file_extension": ".py",
   "mimetype": "text/x-python",
   "name": "python",
   "nbconvert_exporter": "python",
   "pygments_lexer": "ipython3",
   "version": "3.6.5"
  }
 },
 "nbformat": 4,
 "nbformat_minor": 2
}
